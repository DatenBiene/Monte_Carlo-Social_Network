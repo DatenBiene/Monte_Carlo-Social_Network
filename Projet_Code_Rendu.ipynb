{
 "cells": [
  {
   "cell_type": "markdown",
   "metadata": {},
   "source": [
    "# The Social Network"
   ]
  },
  {
   "cell_type": "markdown",
   "metadata": {},
   "source": [
    "# Librairies "
   ]
  },
  {
   "cell_type": "code",
   "execution_count": 1,
   "metadata": {},
   "outputs": [],
   "source": [
    "import numpy as np\n",
    "\n",
    "import matplotlib.pyplot as plt\n",
    "import seaborn as sns"
   ]
  },
  {
   "cell_type": "markdown",
   "metadata": {},
   "source": [
    "## Question 1"
   ]
  },
  {
   "cell_type": "markdown",
   "metadata": {},
   "source": [
    "### Résultats Théoriques "
   ]
  },
  {
   "cell_type": "markdown",
   "metadata": {},
   "source": [
    "Le but est de représenter un réseau social non-orienté par une matrice symètrique, et de simuler ces matrices sous une loi connue à une constante prêt : \n",
    "\\begin{equation*}\n",
    "    p(x|\\theta) = \\frac{1}{Z(\\theta)}\\exp^{\\theta^{T} S(x)}\n",
    "\\end{equation*}\n",
    "Où :\n",
    "- x est la matrice en question, évoluant dans $R^{n}$, avec n le nombre d'individus\n",
    "- S(x) est une statistique sur cette matrice. Nous prendrons le nombre d'arrêtes et le nombre de triangles (trois individus reliés les uns aux autres). Autrement dit : $S(x) = \\big[ \\sum_{i<j} x_{ij}, \\sum_{i<j<k} x_{ij}x_{jk}x_{ki}\\big].$ \n",
    "- $Z(\\theta)$ est inconnue.\n",
    "Nous pourrons ensuite trouver le paramètre sous-jacent à une observation.\n",
    "Nous commençons par mettre en oeuvre un algorithme permettant de simuler x sous un $\\theta$ donné.\n",
    "\n",
    "#### Simulation par Gibbs Sampler\n",
    "\n",
    "Afin de mettre en place cet algorithme, nous devons trouver la loi de $x{ij}$ sachant $\\theta$ et tous les autres ..... de la matrice x (nous les noterons $x_{-ij}$). On a : $\\forall i,j \\text{ } \\in \\text{ } [\\![1;n]\\!]$\n",
    "\n",
    "\\begin{equation*}\n",
    "\\begin{split}\n",
    "    \\mathbf{P}(X_{ij} = 1 | \\theta, x_{-ij}) & = \\frac{\\mathbf{P}(X_{ij} = 1 \\cap X_{-ij} = x_{-ij} |  \\theta)}{\\mathbf{P}(X_{-ij} = x_{-ij}} \\\\\n",
    "    & = \\frac{\\mathbf{P}(X_{ij} = 1 \\cap X_{-ij} = x_{-ij} |  \\theta)}{\\mathbf{P}(X_{ij} = 1, X_{-ij} = x_{-ij}) + \\mathbf{P}(X_{ij} = 0, X_{-ij} = x_{-ij})}\\\\\n",
    "    & = \\frac{\\exp^{\\theta^{T} S_{1}(x)}}{\\exp^{\\theta^{T} S_{1}(x)} + \\exp^{\\theta^{T} S_{0}(x)}} \\text{ ; en simplifiant par $Z(\\theta)$ en haut et en bas} \\\\\n",
    "    & = \\frac{1}{1 + \\exp^{\\theta^{T} (S_{0}(x) - S_{1}(x))}}\n",
    "\\end{split}\n",
    "\\end{equation*}\n",
    "où $S_{1}(x)$ est la statistique de la matrice x où $x_{ij}$ vaut 1, et $S_{0}(x)$ la même chose mais pour $x_{ij}$ vallant 0.​"
   ]
  },
  {
   "cell_type": "markdown",
   "metadata": {},
   "source": [
    "### Code"
   ]
  },
  {
   "cell_type": "code",
   "execution_count": 2,
   "metadata": {},
   "outputs": [],
   "source": [
    "def S_consignes(M):\n",
    "    g=np.triu(M)\n",
    "    return np.array([np.sum(g,axis=(1,2)),np.sum(np.einsum('ijl,ilk->ijk',g,g)*g,axis=(1,2))])"
   ]
  },
  {
   "cell_type": "code",
   "execution_count": 3,
   "metadata": {},
   "outputs": [],
   "source": [
    "def gibbs_etape(x, position, u, theta, S):\n",
    "    ''' \n",
    "    Input :\n",
    "    \n",
    "    x est la matrice à l'itération k du gibbs sampler,\n",
    "    position est la liste [i,j] indiquant la position de la valeur à changer \n",
    "    u une uniforme dans [0,1] tirée au préalable\n",
    "    theta et S sont ceux de la densité\n",
    "    \n",
    "    Output :\n",
    "    \n",
    "    matrice à l'itération k+1 du gibbs sampler\n",
    "    \n",
    "    '''\n",
    "    m=x.shape[0] #taille de la matrice\n",
    "    \n",
    "    y = x.copy() #copies modifiables\n",
    "    z = x.copy()\n",
    "    \n",
    "    y[position[0],position[1]] = 1\n",
    "    z[position[0],position[1]] = 0\n",
    "    \n",
    "    S_1=S(z.reshape(1,m,m))\n",
    "    S_0=S(y.reshape(1,m,m))\n",
    "    \n",
    "    y[position[0],position[1]] = (u < 1/(1 + np.exp(theta.dot(np.subtract(S_1,S_0)))))*1\n",
    "    y[position[1],position[0]] = y[position[0],position[1]]\n",
    "    \n",
    "    \n",
    "    return(y)"
   ]
  },
  {
   "cell_type": "code",
   "execution_count": 4,
   "metadata": {},
   "outputs": [],
   "source": [
    "def pos(I,N):\n",
    "    \"\"\"\n",
    "    \n",
    "    Input :\n",
    "    \n",
    "    I la taille totale que l'on souhaite \n",
    "    N le nombre d'individus dans le réseau\n",
    "    \n",
    "    Output :\n",
    "    \n",
    "    Toutes les positions à modifier\n",
    "    \n",
    "    \"\"\"\n",
    "    l=[]\n",
    "    for i in range(N):\n",
    "        for j in range(i+1,N):\n",
    "            l+=[[i,j]]\n",
    "    return np.array(l*(I//len(l))+l[:I%len(l)])"
   ]
  },
  {
   "cell_type": "code",
   "execution_count": 5,
   "metadata": {},
   "outputs": [],
   "source": [
    "def gibbs (I, N, theta, S, X='default',last_sample=False,H=1):\n",
    "    \"\"\"\n",
    "    Input :\n",
    "    I le nombre d'itération dans le gibbs sampling\n",
    "    N le nombre d'individus dans le réseau \n",
    "    theta un array pour les paramètres de la loi \n",
    "    \n",
    "    S une fonction vectorisable sur une liste de matrices (statistique exhaustive de notre loi)\n",
    "    last_sample=True sin on veut juste la dernière matrice\n",
    "    H l'espace qud l'on veut entre chaque echantillon retourné \n",
    "    \n",
    "    \"\"\"\n",
    "    \n",
    "    indices_return=np.cumsum([H]*(I//H)) #Position des éléments que l'on veut \n",
    "    \n",
    "    if type(X)!=np.ndarray :\n",
    "        X = np.ones((N,N))  #Partir de 0 \n",
    "    \n",
    "    R = np.broadcast_to(X,(I,N,N))\n",
    "    Q = R.copy()\n",
    "    \n",
    "    indices=pos(I,N)\n",
    "    \n",
    "    U=np.random.uniform(0,1,I)\n",
    "    \n",
    "    for k in range(I-1):\n",
    "        Q[k+1]=gibbs_etape(Q[k],indices[k],U[k],theta,S)\n",
    "    \n",
    "    if last_sample :\n",
    "        return Q[I-1]\n",
    "        \n",
    "    \n",
    "    return S(Q[indices_return[:-1]])\n",
    "       "
   ]
  },
  {
   "cell_type": "code",
   "execution_count": 6,
   "metadata": {},
   "outputs": [],
   "source": [
    "def evolution(V):\n",
    "    ''' Evolution moyenne empirique et intervalle de confiance asymptotique à 95 pourcent'''\n",
    "    n=len(V)\n",
    "    x = np.array([i+1 for i in range(n)])\n",
    "    moyenne_empi = np.cumsum(V)/x\n",
    "    \n",
    "    sqrt_empi=(np.sqrt((np.ones((1,n)).dot((np.triu(np.broadcast_to(V,(n,n)).T-np.broadcast_to(moyenne_empi,(n,n))))**2)/x))).reshape((n,))\n",
    "    \n",
    "    ub=moyenne_empi+(sqrt_empi*1.96)/(np.sqrt(x))\n",
    "    lb=moyenne_empi-(sqrt_empi*1.96)/(np.sqrt(x))\n",
    "    \n",
    "    plt.figure(figsize=(12,5)) \n",
    "    \n",
    "    plt.title(\"Evolution de la moyenne empirique du vecteur avec intervalle de confiance à 95%\")\n",
    "    plt.plot(moyenne_empi)\n",
    "    plt.fill_between(x, ub, lb,alpha=.35)"
   ]
  },
  {
   "cell_type": "code",
   "execution_count": 7,
   "metadata": {
    "scrolled": true
   },
   "outputs": [
    {
     "name": "stdout",
     "output_type": "stream",
     "text": [
      "Wall time: 2.02 s\n"
     ]
    }
   ],
   "source": [
    "%%time\n",
    "I=10000\n",
    "nb_nods=16\n",
    "r=np.triu(np.random.randint(2,size=[nb_nods,nb_nods]),1)\n",
    "P = gibbs(I, nb_nods, np.array([0.1,0.2]),  S_consignes,X=r+r.T,H=1)"
   ]
  },
  {
   "cell_type": "code",
   "execution_count": 8,
   "metadata": {
    "scrolled": true
   },
   "outputs": [
    {
     "data": {
      "image/png": "[encoded data removed]",
      "text/plain": [
       "<Figure size 864x360 with 1 Axes>"
      ]
     },
     "metadata": {
      "needs_background": "light"
     },
     "output_type": "display_data"
    }
   ],
   "source": [
    "evolution(P[0])"
   ]
  },
  {
   "cell_type": "code",
   "execution_count": 9,
   "metadata": {},
   "outputs": [],
   "source": [
    "from scipy.ndimage.interpolation import shift\n",
    "from scipy.stats import chi2_contingency"
   ]
  },
  {
   "cell_type": "code",
   "execution_count": 10,
   "metadata": {},
   "outputs": [
    {
     "data": {
      "text/plain": [
       "[<matplotlib.lines.Line2D at 0x2048105a4e0>]"
      ]
     },
     "execution_count": 10,
     "metadata": {},
     "output_type": "execute_result"
    },
    {
     "data": {
      "image/png": "[encoded data removed]",
      "text/plain": [
       "<Figure size 432x288 with 1 Axes>"
      ]
     },
     "metadata": {
      "needs_background": "light"
     },
     "output_type": "display_data"
    }
   ],
   "source": [
    "sP=shift(P[0], 1, cval=0)\n",
    "plt.plot(P[0]-sP)"
   ]
  },
  {
   "cell_type": "code",
   "execution_count": 11,
   "metadata": {
    "scrolled": true
   },
   "outputs": [
    {
     "data": {
      "text/plain": [
       "array([[56, 56, 56, 56, 56],\n",
       "       [56, 56, 56, 56, 57]])"
      ]
     },
     "execution_count": 11,
     "metadata": {},
     "output_type": "execute_result"
    }
   ],
   "source": [
    "n=0\n",
    "\n",
    "np.array([P[0][:5],P[0][5*n+1:5*(n+1)+1]])"
   ]
  },
  {
   "cell_type": "code",
   "execution_count": 12,
   "metadata": {},
   "outputs": [
    {
     "data": {
      "text/plain": [
       "0.9999937717895058"
      ]
     },
     "execution_count": 12,
     "metadata": {},
     "output_type": "execute_result"
    }
   ],
   "source": [
    "chi2_contingency(np.array([P[0][:5],P[0][5*n+1:5*(n+1)+1]]))[1]"
   ]
  },
  {
   "cell_type": "code",
   "execution_count": 13,
   "metadata": {},
   "outputs": [],
   "source": [
    "def test_indep_evolution(V,effectif=5):\n",
    "    \n",
    "# effectif=5 (Cochran),  effectif=10 (Cramér) ou  effectif=20 (Kendall)\n",
    "\n",
    "    l=[]\n",
    "    for n in range(len(V)//effectif) :\n",
    "        \n",
    "        l+=[chi2_contingency(np.array([V[:effectif],V[effectif*n+1:effectif*(n+1)+1]]))[1]]\n",
    "    \n",
    "    plt.plot(l)"
   ]
  },
  {
   "cell_type": "code",
   "execution_count": 14,
   "metadata": {},
   "outputs": [
    {
     "data": {
      "image/png": "[encoded data removed]",
      "text/plain": [
       "<Figure size 432x288 with 1 Axes>"
      ]
     },
     "metadata": {
      "needs_background": "light"
     },
     "output_type": "display_data"
    }
   ],
   "source": [
    "test_indep_evolution(P[0],effectif=5)"
   ]
  },
  {
   "cell_type": "code",
   "execution_count": 15,
   "metadata": {},
   "outputs": [
    {
     "data": {
      "image/png": "[encoded data removed]",
      "text/plain": [
       "<Figure size 432x288 with 1 Axes>"
      ]
     },
     "metadata": {
      "needs_background": "light"
     },
     "output_type": "display_data"
    }
   ],
   "source": [
    "test_indep_evolution(P[1],effectif=20)"
   ]
  },
  {
   "cell_type": "markdown",
   "metadata": {},
   "source": [
    "## Question 2"
   ]
  },
  {
   "cell_type": "code",
   "execution_count": null,
   "metadata": {},
   "outputs": [],
   "source": []
  },
  {
   "cell_type": "code",
   "execution_count": null,
   "metadata": {},
   "outputs": [],
   "source": []
  },
  {
   "cell_type": "markdown",
   "metadata": {},
   "source": [
    "## Question 3"
   ]
  },
  {
   "cell_type": "code",
   "execution_count": null,
   "metadata": {},
   "outputs": [],
   "source": []
  },
  {
   "cell_type": "code",
   "execution_count": null,
   "metadata": {},
   "outputs": [],
   "source": []
  },
  {
   "cell_type": "code",
   "execution_count": null,
   "metadata": {},
   "outputs": [],
   "source": []
  }
 ],
 "metadata": {
  "kernelspec": {
   "display_name": "Python 3",
   "language": "python",
   "name": "python3"
  },
  "language_info": {
   "codemirror_mode": {
    "name": "ipython",
    "version": 3
   },
   "file_extension": ".py",
   "mimetype": "text/x-python",
   "name": "python",
   "nbconvert_exporter": "python",
   "pygments_lexer": "ipython3",
   "version": "3.6.8"
  }
 },
 "nbformat": 4,
 "nbformat_minor": 2
}
