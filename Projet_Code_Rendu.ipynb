{
 "cells": [
  {
   "cell_type": "markdown",
   "metadata": {},
   "source": [
    "# The Social Network"
   ]
  },
  {
   "cell_type": "markdown",
   "metadata": {},
   "source": [
    "# Librairies "
   ]
  },
  {
   "cell_type": "code",
   "execution_count": 1,
   "metadata": {},
   "outputs": [],
   "source": [
    "import numpy as np"
   ]
  },
  {
   "cell_type": "markdown",
   "metadata": {},
   "source": [
    "## Question 1"
   ]
  },
  {
   "cell_type": "markdown",
   "metadata": {},
   "source": [
    "### Résultats Théoriques "
   ]
  },
  {
   "cell_type": "markdown",
   "metadata": {},
   "source": [
    "Le but est de représenter un réseau social non-orienté par une matrice symètrique, et de simuler ces matrices sous une loi connue à une constante prêt : \n",
    "\\begin{equation*}\n",
    "    p(x|\\theta) = \\frac{1}{Z(\\theta)}\\exp^{\\theta^{T} S(x)}\n",
    "\\end{equation*}\n",
    "Où :\n",
    "- x est la matrice en question, évoluant dans $R^{n}$, avec n le nombre d'individus\n",
    "- S(x) est une statistique sur cette matrice. Nous prendrons le nombre d'arrêtes et le nombre de triangles (trois individus reliés les uns aux autres). Autrement dit : $S(x) = \\big[ \\sum_{i<j} x_{ij}, \\sum_{i<j<k} x_{ij}x_{jk}x_{ki}\\big].$ \n",
    "- $Z(\\theta)$ est inconnue.\n",
    "Nous pourrons ensuite trouver le paramètre sous-jacent à une observation.\n",
    "Nous commençons par mettre en oeuvre un algorithme permettant de simuler x sous un $\\theta$ donné.\n",
    "\n",
    "#### Simulation par Gibbs Sampler\n",
    "\n",
    "Afin de mettre en place cet algorithme, nous devons trouver la loi de $x{ij}$ sachant $\\theta$ et tous les autres ..... de la matrice x (nous les noterons $x_{-ij}$). On a : $\\forall i,j \\text{ } \\in \\text{ } [\\![1;n]\\!]$\n",
    "\n",
    "\\begin{equation*}\n",
    "\\begin{split}\n",
    "    \\mathbf{P}(X_{ij} = 1 | \\theta, x_{-ij}) & = \\frac{\\mathbf{P}(X_{ij} = 1 \\cap X_{-ij} = x_{-ij} |  \\theta)}{\\mathbf{P}(X_{-ij} = x_{-ij}} \\\\\n",
    "    & = \\frac{\\mathbf{P}(X_{ij} = 1 \\cap X_{-ij} = x_{-ij} |  \\theta)}{\\mathbf{P}(X_{ij} = 1, X_{-ij} = x_{-ij}) + \\mathbf{P}(X_{ij} = 0, X_{-ij} = x_{-ij})}\\\\\n",
    "    & = \\frac{\\exp^{\\theta^{T} S_{1}(x)}}{\\exp^{\\theta^{T} S_{1}(x)} + \\exp^{\\theta^{T} S_{0}(x)}} \\text{ ; en simplifiant par $Z(\\theta)$ en haut et en bas} \\\\\n",
    "    & = \\frac{1}{1 + \\exp^{\\theta^{T} (S_{0}(x) - S_{1}(x))}}\n",
    "\\end{split}\n",
    "\\end{equation*}\n",
    "où $S_{1}(x)$ est la statistique de la matrice x où $x_{ij}$ vaut 1, et $S_{0}(x)$ la même chose mais pour $x_{ij}$ vallant 0.​"
   ]
  },
  {
   "cell_type": "markdown",
   "metadata": {},
   "source": [
    "### Code"
   ]
  },
  {
   "cell_type": "code",
   "execution_count": null,
   "metadata": {},
   "outputs": [],
   "source": [
    "def S_consignes(M):\n",
    "    g=np.triu(M)\n",
    "    return np.array([np.sum(g,axis=(1,2)),np.sum(np.einsum('ijl,ilk->ijk',g,g)*g,axis=(1,2))])"
   ]
  },
  {
   "cell_type": "code",
   "execution_count": null,
   "metadata": {},
   "outputs": [],
   "source": [
    "def gibbs_etape(x, ij, u, theta, S):\n",
    "    ''' \n",
    "    x est la matrice à l'itération k,\n",
    "    ij la position de la valeur à changer et p tiré aléatoirement dans [0,1] au préalable'''\n",
    "    m=x.shape[0] #taille de la matrice\n",
    "    \n",
    "    y = x.copy() #copies modifiables\n",
    "    z = x.copy()\n",
    "    \n",
    "    y[ij[0],ij[1]] = 1\n",
    "    z[ij[0],ij[1]] = 0\n",
    "    \n",
    "    S_1=S(z.reshape(1,m,m))\n",
    "    S_0=S(y.reshape(1,m,m))\n",
    "    \n",
    "    y[ij[0],ij[1]] = (u < 1/(1 + np.exp(theta.dot(np.subtract(S_1,S_0)))))*1\n",
    "    \n",
    "    return(y)"
   ]
  },
  {
   "cell_type": "code",
   "execution_count": null,
   "metadata": {},
   "outputs": [],
   "source": [
    "def pos(N,I):\n",
    "    \"\"\"crée le vecteur des indices à changer\"\"\"\n",
    "    l=[]\n",
    "    for i in range(N):\n",
    "        for j in range(i+1,N):\n",
    "            l+=[[i,j]]\n",
    "    return np.array(l*(I//len(l))+l[:I%len(l)])"
   ]
  },
  {
   "cell_type": "code",
   "execution_count": null,
   "metadata": {},
   "outputs": [],
   "source": [
    "def gibbs (I, N, theta, S):\n",
    "    \"\"\"I est le nombre d'itérations, N le nombre d'individus, theta un array, S une fonction vectorisable sur une liste de matrice\"\"\"\n",
    "    X = np.tril((np.random.uniform(0,1,[N,N]) >= 0.5)*1, -1)  #Partir de 0 \n",
    "    X = np.transpose(X) + X\n",
    "    \n",
    "    R = np.broadcast_to(X,(I,N,N))\n",
    "    Q = R.copy()\n",
    "    \n",
    "    indices=pos(N,I)\n",
    "    \n",
    "    U=np.random.uniform(0,1,I)\n",
    "    \n",
    "    for k in range(I-1):\n",
    "        \n",
    "        Q[k+1]=gibbs_etape(Q[k],indices[k],U[k],theta,S)\n",
    "        \n",
    "    return S(Q)\n",
    "       "
   ]
  },
  {
   "cell_type": "markdown",
   "metadata": {},
   "source": [
    "## Question 2"
   ]
  },
  {
   "cell_type": "code",
   "execution_count": null,
   "metadata": {},
   "outputs": [],
   "source": []
  },
  {
   "cell_type": "code",
   "execution_count": null,
   "metadata": {},
   "outputs": [],
   "source": []
  },
  {
   "cell_type": "markdown",
   "metadata": {},
   "source": [
    "## Question 3"
   ]
  },
  {
   "cell_type": "code",
   "execution_count": null,
   "metadata": {},
   "outputs": [],
   "source": []
  },
  {
   "cell_type": "code",
   "execution_count": null,
   "metadata": {},
   "outputs": [],
   "source": []
  },
  {
   "cell_type": "code",
   "execution_count": null,
   "metadata": {},
   "outputs": [],
   "source": []
  }
 ],
 "metadata": {
  "kernelspec": {
   "display_name": "Python 3",
   "language": "python",
   "name": "python3"
  },
  "language_info": {
   "codemirror_mode": {
    "name": "ipython",
    "version": 3
   },
   "file_extension": ".py",
   "mimetype": "text/x-python",
   "name": "python",
   "nbconvert_exporter": "python",
   "pygments_lexer": "ipython3",
   "version": "3.6.8"
  }
 },
 "nbformat": 4,
 "nbformat_minor": 2
}
