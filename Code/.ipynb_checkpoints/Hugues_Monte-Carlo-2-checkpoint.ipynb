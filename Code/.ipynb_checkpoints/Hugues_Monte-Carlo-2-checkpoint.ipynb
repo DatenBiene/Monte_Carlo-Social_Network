{
 "cells": [
  {
   "cell_type": "markdown",
   "metadata": {},
   "source": [
    "## Social Network"
   ]
  },
  {
   "cell_type": "code",
   "execution_count": 34,
   "metadata": {},
   "outputs": [],
   "source": [
    "import math\n",
    "import numpy as np\n",
    "import random"
   ]
  },
  {
   "cell_type": "markdown",
   "metadata": {},
   "source": [
    "### Question 1 : simulation de p(x|theta)"
   ]
  },
  {
   "cell_type": "markdown",
   "metadata": {},
   "source": [
    "On se place contrairement à pas mal d'articles dans le cadre de connection mutuelle (ami sur facebook) et non d'abonnement (twitter) => symétrie. Donc: theta = (poids sur le nb d'arrêtes, poids sur le nb de triangles et poids sur le nombre de quadrilatères)."
   ]
  },
  {
   "cell_type": "code",
   "execution_count": 124,
   "metadata": {},
   "outputs": [],
   "source": [
    "theta = [1, -10]\n",
    "\n",
    "def simu (n = 100, d = 10):\n",
    "    \n",
    "    #initialisation avec loi bernoulli indépendantes de proba 1/2\n",
    "    X = np.tril((np.random.uniform(0,1,[d,d]) >= 0.5)*1, -1)\n",
    "    X = np.transpose(X) + X\n",
    "    \n",
    "    #boucle\n",
    "    for k in range (n):\n",
    "        for i in range(d):\n",
    "            for j in range(i+1,d):\n",
    "                X[i,j] = 1\n",
    "                \n",
    "                # permet de regarder qu'une fois les triangles : on compte nb de triangle et on enlève triangles où il y a\n",
    "                # le coef i,j de X\n",
    "                p = 1 / (1 + math.exp( -theta[0] - theta[1]*sum(X[i,:]*X[:,j]) ))\n",
    "                \n",
    "                X[i,j] = (random.random()<=p)*1\n",
    "         \n",
    "    return(np.triu(X, 1) + np.transpose(np.triu(X, 1)))\n"
   ]
  },
  {
   "cell_type": "code",
   "execution_count": 128,
   "metadata": {},
   "outputs": [
    {
     "name": "stdout",
     "output_type": "stream",
     "text": [
      "Wall time: 790 ms\n"
     ]
    }
   ],
   "source": [
    "%time g = simu(n=1000)"
   ]
  },
  {
   "cell_type": "code",
   "execution_count": 129,
   "metadata": {},
   "outputs": [
    {
     "data": {
      "text/plain": [
       "[]"
      ]
     },
     "execution_count": 129,
     "metadata": {},
     "output_type": "execute_result"
    }
   ],
   "source": [
    "coef_triangle(g)"
   ]
  },
  {
   "cell_type": "code",
   "execution_count": 130,
   "metadata": {},
   "outputs": [
    {
     "data": {
      "text/plain": [
       "array([[0, 0, 0, 0, 0, 1, 0, 0, 0, 1],\n",
       "       [0, 0, 1, 0, 0, 1, 0, 0, 0, 0],\n",
       "       [0, 1, 0, 1, 0, 0, 1, 0, 0, 0],\n",
       "       [0, 0, 1, 0, 0, 0, 0, 0, 1, 0],\n",
       "       [0, 0, 0, 0, 0, 1, 0, 0, 0, 0],\n",
       "       [1, 1, 0, 0, 1, 0, 0, 0, 1, 1],\n",
       "       [0, 0, 1, 0, 0, 0, 0, 0, 1, 0],\n",
       "       [0, 0, 0, 0, 0, 0, 0, 0, 0, 1],\n",
       "       [0, 0, 0, 1, 0, 1, 1, 0, 0, 0],\n",
       "       [1, 0, 0, 0, 0, 1, 0, 1, 0, 0]])"
      ]
     },
     "execution_count": 130,
     "metadata": {},
     "output_type": "execute_result"
    }
   ],
   "source": [
    "g"
   ]
  },
  {
   "cell_type": "markdown",
   "metadata": {},
   "source": [
    "### Question 2"
   ]
  },
  {
   "cell_type": "code",
   "execution_count": null,
   "metadata": {},
   "outputs": [],
   "source": []
  }
 ],
 "metadata": {
  "kernelspec": {
   "display_name": "Python 3",
   "language": "python",
   "name": "python3"
  },
  "language_info": {
   "codemirror_mode": {
    "name": "ipython",
    "version": 3
   },
   "file_extension": ".py",
   "mimetype": "text/x-python",
   "name": "python",
   "nbconvert_exporter": "python",
   "pygments_lexer": "ipython3",
   "version": "3.6.8"
  }
 },
 "nbformat": 4,
 "nbformat_minor": 2
}
