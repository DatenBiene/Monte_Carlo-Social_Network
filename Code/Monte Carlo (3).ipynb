{
 "cells": [
  {
   "cell_type": "markdown",
   "metadata": {},
   "source": [
    "## Social Network"
   ]
  },
  {
   "cell_type": "code",
   "execution_count": 1,
   "metadata": {},
   "outputs": [],
   "source": [
    "import math\n",
    "import numpy as np\n",
    "import random\n",
    "import matplotlib.pyplot as plt"
   ]
  },
  {
   "cell_type": "markdown",
   "metadata": {},
   "source": [
    "### Question 1 : simulation de p(x|theta)"
   ]
  },
  {
   "cell_type": "markdown",
   "metadata": {},
   "source": [
    "On se place contrairement à pas mal d'articles dans le cadre de connection mutuelle (ami sur facebook) et non d'abonnement (twitter) => symétrie. Donc: theta = (poids sur le nb d'arrêtes, poids sur le nb de triangles et poids sur le nombre de quadrilatères)."
   ]
  },
  {
   "cell_type": "code",
   "execution_count": null,
   "metadata": {},
   "outputs": [],
   "source": [
    "def simu (M = 100, N = 10, theta = [0.2,0.1]):\n",
    "    \n",
    "    #initialisation avec lois bernoulli indépendantes de proba 1/2\n",
    "    X = np.tril((np.random.uniform(0,1,[N,N]) >= 0.5)*1, -1)\n",
    "    X = np.transpose(X) + X\n",
    "    \n",
    "    #boucle\n",
    "    for k in range (M):\n",
    "        for i in range(N):\n",
    "            for j in range(i+1,N):\n",
    "                X[i,j] = 1\n",
    "                \n",
    "                # permet de regarder qu'une fois les triangles : on compte nb de triangle et on enlève triangles où il y a\n",
    "                # le coef i,j de X\n",
    "                p = 1 / (1 + math.exp( -theta[0] - theta[1]*sum(X[i,:]*X[:,j]) ))\n",
    "                \n",
    "                X[i,j] = (random.random()<=p)*1\n",
    "         \n",
    "    return(np.triu(X, 1))\n"
   ]
  },
  {
   "cell_type": "code",
   "execution_count": null,
   "metadata": {},
   "outputs": [],
   "source": [
    "%time g = simu()"
   ]
  },
  {
   "cell_type": "code",
   "execution_count": null,
   "metadata": {},
   "outputs": [],
   "source": [
    "[[0,2],]*3"
   ]
  },
  {
   "cell_type": "code",
   "execution_count": null,
   "metadata": {},
   "outputs": [],
   "source": [
    "%%time\n",
    "N=10\n",
    "I=1000000\n",
    "l=[]\n",
    "for i in range(N):\n",
    "    for j in range(i+1,N):\n",
    "        l+=[[i,j]]\n",
    "print(len(l*(I//len(l))+l[:I%len(l)]))"
   ]
  },
  {
   "cell_type": "code",
   "execution_count": null,
   "metadata": {
    "scrolled": true
   },
   "outputs": [],
   "source": [
    "%%time\n",
    "N=3\n",
    "I=10\n",
    "l=[]\n",
    "for i in range(N):\n",
    "    for j in range(i+1,N):\n",
    "        l+=[[i,j]]\n",
    "#l=np.broadcast_to(np.array(l),(I,2))\n",
    "print(l)"
   ]
  },
  {
   "cell_type": "code",
   "execution_count": null,
   "metadata": {},
   "outputs": [],
   "source": [
    "np.broadcast_to(np.array([1,2]),(4,2))"
   ]
  },
  {
   "cell_type": "code",
   "execution_count": null,
   "metadata": {
    "scrolled": true
   },
   "outputs": [],
   "source": [
    "gibbs_etape(np.ones((3,3)),[1,2],0.5,np.array([0.1,0.2]), S_consignes)"
   ]
  },
  {
   "cell_type": "code",
   "execution_count": 6,
   "metadata": {},
   "outputs": [],
   "source": [
    "def S_consignes(M):\n",
    "    g=np.triu(M)\n",
    "    return np.array([np.sum(g,axis=(1,2)),np.sum(np.einsum('ijl,ilk->ijk',g,g)*g,axis=(1,2))])\n",
    "\n",
    "\n",
    "def gibbs_etape(x, ij, u, theta, S):\n",
    "    ''' \n",
    "    x est la matrice à l'itération k,\n",
    "    ij la position de la valeur à changer et p tiré aléatoirement dans [0,1] au préalable'''\n",
    "    m=x.shape[0] #taille de la matrice\n",
    "    \n",
    "    y = x.copy() #copies modifiables\n",
    "    z = x.copy()\n",
    "    \n",
    "    y[ij[0],ij[1]] = 1\n",
    "    z[ij[0],ij[1]] = 0\n",
    "    \n",
    "    S_1=S(z.reshape(1,m,m))\n",
    "    S_0=S(y.reshape(1,m,m))\n",
    "    \n",
    "    y[ij[0],ij[1]] = (u < 1/(1 + np.exp(theta.dot(np.subtract(S_1,S_0)))))*1\n",
    "    \n",
    "    return(y)\n",
    "\n",
    "def pos(N,I):\n",
    "    \"\"\"crée le vecteur des indices à changer\"\"\"\n",
    "    l=[]\n",
    "    for i in range(N):\n",
    "        for j in range(i+1,N):\n",
    "            l+=[[i,j]]\n",
    "    return np.array(l*(I//len(l))+l[:I%len(l)])\n",
    "    \n",
    "\n",
    "def gibbs (I, N, theta, S):\n",
    "    \"\"\"I est le nombre d'itérations, N le nombre d'individus, theta un array, S une fonction vectorisable sur une liste de matrice\"\"\"\n",
    "    X = np.tril((np.random.uniform(0,1,[N,N]) >= 0.5)*1, -1)  #Partir de 0 \n",
    "    X = np.transpose(X) + X\n",
    "    \n",
    "    R = np.broadcast_to(X,(I,N,N))\n",
    "    Q = R.copy()\n",
    "    \n",
    "    indices=pos(N,I)\n",
    "    \n",
    "    U=np.random.uniform(0,1,I)\n",
    "    \n",
    "    for k in range(I-1):\n",
    "        \n",
    "        Q[k+1]=gibbs_etape(Q[k],indices[k],U[k],theta,S)\n",
    "        \n",
    "    return S(Q)\n",
    "       "
   ]
  },
  {
   "cell_type": "code",
   "execution_count": 20,
   "metadata": {
    "scrolled": true
   },
   "outputs": [],
   "source": [
    "N=100000\n",
    "P=gibbs(N,10,np.array([0.1,0.2]), S_consignes)"
   ]
  },
  {
   "cell_type": "code",
   "execution_count": 21,
   "metadata": {},
   "outputs": [],
   "source": [
    "x=[i for i in range(N)]"
   ]
  },
  {
   "cell_type": "code",
   "execution_count": 22,
   "metadata": {},
   "outputs": [
    {
     "name": "stderr",
     "output_type": "stream",
     "text": [
      "C:\\Users\\Delanoue\\Anaconda3\\envs\\env_py36\\lib\\site-packages\\ipykernel_launcher.py:1: RuntimeWarning: divide by zero encountered in true_divide\n",
      "  \"\"\"Entry point for launching an IPython kernel.\n"
     ]
    },
    {
     "data": {
      "text/plain": [
       "[<matplotlib.lines.Line2D at 0x11820ad1e10>]"
      ]
     },
     "execution_count": 22,
     "metadata": {},
     "output_type": "execute_result"
    },
    {
     "data": {
      "image/png": "[encoded data removed]",
      "text/plain": [
       "<Figure size 432x288 with 1 Axes>"
      ]
     },
     "metadata": {
      "needs_background": "light"
     },
     "output_type": "display_data"
    }
   ],
   "source": [
    "plt.plot(x,np.cumsum(P[0])/x)"
   ]
  },
  {
   "cell_type": "markdown",
   "metadata": {},
   "source": [
    "### Question 2"
   ]
  },
  {
   "cell_type": "markdown",
   "metadata": {},
   "source": [
    "Réalisation de 1000 simulations avec theta0 = [0.3, 0.1], et compilation des quantités d'intérêt : S (nb arrêtes) et T (nb triangles)"
   ]
  },
  {
   "cell_type": "code",
   "execution_count": null,
   "metadata": {},
   "outputs": [],
   "source": [
    "k = 1000\n",
    "theta0 = [10,-10]\n",
    "V = np.zeros(([k,2]))\n",
    "\n",
    "for i in range(k):\n",
    "    X = simu(theta = theta0)\n",
    "    S = np.sum(X)\n",
    "    T = np.sum(X.dot(X)*X)\n",
    "    V[i,] = [S,T]"
   ]
  },
  {
   "cell_type": "code",
   "execution_count": null,
   "metadata": {},
   "outputs": [],
   "source": [
    "np.mean(V, axis = 0)"
   ]
  },
  {
   "cell_type": "markdown",
   "metadata": {},
   "source": [
    "On calcule Z(theta)/Z(theta0)=E(exp((theta - theta0)T * S(x)))), puis à l'intérieur multiplié par S(x) puis S(x) carré, pour pouvoir s'en servir dans Newton-Raphson."
   ]
  },
  {
   "cell_type": "code",
   "execution_count": null,
   "metadata": {},
   "outputs": [],
   "source": [
    "def Z(theta, valeurs = V):\n",
    "    t = np.array([theta[0]-theta0[0], theta[1] - theta0[1]]) #les thetas sont des listes\n",
    "    \n",
    "    #espérance simple\n",
    "    y1 = np.exp(valeurs.dot(t))\n",
    "    \n",
    "    #avec S(x)\n",
    "    y2 = valeurs*(y1.reshape([k,1]).dot(np.ones([1,2]))) #multiplication terme à terme de valeurs par ... \n",
    "    \n",
    "    #avec S(x)^2\n",
    "    y3 = np.zeros([k,2,2])\n",
    "    for i in range(len(valeurs)):\n",
    "        a = V[i].reshape([1,2])\n",
    "        y3[i] = np.transpose(a).dot(a)*y1[i]\n",
    "    \n",
    "    return([np.mean(y1), np.mean(y2, axis = 0), np.mean(y3, axis=0)])"
   ]
  },
  {
   "cell_type": "markdown",
   "metadata": {},
   "source": [
    "Newton-Raphson : "
   ]
  },
  {
   "cell_type": "code",
   "execution_count": null,
   "metadata": {},
   "outputs": [],
   "source": [
    "def pas(theta, observation = V[0]): #on prend une observation au pif\n",
    "    a,b,c = Z(theta)\n",
    "    b = b.reshape([2,1]) \n",
    "    l_deriv_2fois = np.linalg.inv(b.dot(np.transpose(b))/(a**2) - c/a)\n",
    "    theta = np.array(theta).reshape([2,1])\n",
    "    \n",
    "    return(np.subtract(theta , l_deriv_2fois.dot(np.subtract(observation.reshape([2,1]), b/a))))"
   ]
  },
  {
   "cell_type": "code",
   "execution_count": null,
   "metadata": {},
   "outputs": [],
   "source": [
    "def NR(init = [10,-11], nb_iter = 10):\n",
    "    #initialisation\n",
    "    t = np.zeros([nb_iter,2])\n",
    "    t[0] = init\n",
    "\n",
    "    for i in range(nb_iter-1):\n",
    "        t[i+1] = pas(t[i]).reshape([1,2])\n",
    "\n",
    "    plt.plot(t[:,1])\n",
    "    plt.plot(t[:,0])\n",
    "    plt.show()\n",
    "    return(t)"
   ]
  },
  {
   "cell_type": "code",
   "execution_count": null,
   "metadata": {},
   "outputs": [],
   "source": [
    "NR()"
   ]
  },
  {
   "cell_type": "code",
   "execution_count": null,
   "metadata": {},
   "outputs": [],
   "source": []
  }
 ],
 "metadata": {
  "kernelspec": {
   "display_name": "Python 3",
   "language": "python",
   "name": "python3"
  },
  "language_info": {
   "codemirror_mode": {
    "name": "ipython",
    "version": 3
   },
   "file_extension": ".py",
   "mimetype": "text/x-python",
   "name": "python",
   "nbconvert_exporter": "python",
   "pygments_lexer": "ipython3",
   "version": "3.6.8"
  }
 },
 "nbformat": 4,
 "nbformat_minor": 2
}
