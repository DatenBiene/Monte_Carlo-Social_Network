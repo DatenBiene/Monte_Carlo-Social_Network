{
 "cells": [
  {
   "cell_type": "markdown",
   "metadata": {},
   "source": [
    "## Social Network"
   ]
  },
  {
   "cell_type": "code",
   "execution_count": 1,
   "metadata": {},
   "outputs": [],
   "source": [
    "import math\n",
    "import numpy as np\n",
    "import random\n",
    "import matplotlib.pyplot as plt"
   ]
  },
  {
   "cell_type": "markdown",
   "metadata": {},
   "source": [
    "### Question 1 : simulation de p(x|theta)"
   ]
  },
  {
   "cell_type": "markdown",
   "metadata": {},
   "source": [
    "On se place contrairement à pas mal d'articles dans le cadre de connection mutuelle (ami sur facebook) et non d'abonnement (twitter) => symétrie. Donc: theta = (poids sur le nb d'arrêtes, poids sur le nb de triangles et poids sur le nombre de quadrilatères)."
   ]
  },
  {
   "cell_type": "code",
   "execution_count": 34,
   "metadata": {},
   "outputs": [],
   "source": [
    "def simu (M = 100, N = 10, theta = [0.2,0.1]):\n",
    "    \n",
    "    #initialisation avec lois bernoulli indépendantes de proba 1/2\n",
    "    X = np.tril((np.random.uniform(0,1,[N,N]) >= 0.5)*1, -1)\n",
    "    X = np.transpose(X) + X\n",
    "    \n",
    "    #boucle\n",
    "    for k in range (M):\n",
    "        for i in range(N):\n",
    "            for j in range(i+1,N):\n",
    "                X[i,j] = 1\n",
    "                \n",
    "                # permet de regarder qu'une fois les triangles : on compte nb de triangle et on enlève triangles où il y a\n",
    "                # le coef i,j de X\n",
    "                p = 1 / (1 + math.exp( -theta[0] - theta[1]*sum(X[i,:]*X[:,j]) ))\n",
    "                \n",
    "                X[i,j] = (random.random()<=p)*1\n",
    "         \n",
    "    return(np.triu(X, 1))\n"
   ]
  },
  {
   "cell_type": "code",
   "execution_count": 35,
   "metadata": {},
   "outputs": [
    {
     "name": "stdout",
     "output_type": "stream",
     "text": [
      "Wall time: 131 ms\n"
     ]
    }
   ],
   "source": [
    "%time g = simu()"
   ]
  },
  {
   "cell_type": "code",
   "execution_count": 36,
   "metadata": {},
   "outputs": [
    {
     "data": {
      "text/plain": [
       "array([[0, 1, 1, 1, 1, 0, 0, 1, 1, 1],\n",
       "       [0, 0, 1, 1, 1, 1, 1, 0, 1, 1],\n",
       "       [0, 0, 0, 1, 1, 0, 1, 0, 1, 1],\n",
       "       [0, 0, 0, 0, 1, 1, 0, 1, 1, 1],\n",
       "       [0, 0, 0, 0, 0, 1, 1, 1, 1, 0],\n",
       "       [0, 0, 0, 0, 0, 0, 1, 1, 0, 1],\n",
       "       [0, 0, 0, 0, 0, 0, 0, 0, 1, 0],\n",
       "       [0, 0, 0, 0, 0, 0, 0, 0, 1, 1],\n",
       "       [0, 0, 0, 0, 0, 0, 0, 0, 0, 1],\n",
       "       [0, 0, 0, 0, 0, 0, 0, 0, 0, 0]])"
      ]
     },
     "execution_count": 36,
     "metadata": {},
     "output_type": "execute_result"
    }
   ],
   "source": [
    "g"
   ]
  },
  {
   "cell_type": "code",
   "execution_count": 37,
   "metadata": {},
   "outputs": [
    {
     "data": {
      "text/plain": [
       "35"
      ]
     },
     "execution_count": 37,
     "metadata": {},
     "output_type": "execute_result"
    }
   ],
   "source": [
    "np.sum(g)"
   ]
  },
  {
   "cell_type": "code",
   "execution_count": 38,
   "metadata": {},
   "outputs": [
    {
     "data": {
      "text/plain": [
       "55"
      ]
     },
     "execution_count": 38,
     "metadata": {},
     "output_type": "execute_result"
    }
   ],
   "source": [
    "np.sum(g.dot(g)*g)"
   ]
  },
  {
   "cell_type": "markdown",
   "metadata": {},
   "source": [
    "### Question 2"
   ]
  },
  {
   "cell_type": "markdown",
   "metadata": {},
   "source": [
    "Réalisation de 1000 simulations avec theta0 = [0.3, 0.1], et compilation des quantités d'intérêt : S (nb arrêtes) et T (nb triangles)"
   ]
  },
  {
   "cell_type": "code",
   "execution_count": 15,
   "metadata": {},
   "outputs": [],
   "source": [
    "k = 1000\n",
    "theta0 = [10,-10]\n",
    "V = np.zeros(([k,2]))\n",
    "\n",
    "for i in range(k):\n",
    "    X = simu(theta = theta0)\n",
    "    S = np.sum(X)\n",
    "    T = np.sum(X.dot(X)*X)\n",
    "    V[i,] = [S,T]"
   ]
  },
  {
   "cell_type": "code",
   "execution_count": 16,
   "metadata": {},
   "outputs": [
    {
     "data": {
      "text/plain": [
       "array([45.905, 11.178])"
      ]
     },
     "execution_count": 16,
     "metadata": {},
     "output_type": "execute_result"
    }
   ],
   "source": [
    "np.mean(V, axis = 0)"
   ]
  },
  {
   "cell_type": "markdown",
   "metadata": {},
   "source": [
    "On calcule Z(theta)/Z(theta0)=E(exp((theta - theta0)T * S(x)))), puis à l'intérieur multiplié par S(x) puis S(x) carré, pour pouvoir s'en servir dans Newton-Raphson."
   ]
  },
  {
   "cell_type": "code",
   "execution_count": 17,
   "metadata": {},
   "outputs": [],
   "source": [
    "def Z(theta, valeurs = V):\n",
    "    t = np.array([theta[0]-theta0[0], theta[1] - theta0[1]]) #les thetas sont des listes\n",
    "    \n",
    "    #espérance simple\n",
    "    y1 = np.exp(valeurs.dot(t))\n",
    "    \n",
    "    #avec S(x)\n",
    "    y2 = valeurs*(y1.reshape([k,1]).dot(np.ones([1,2]))) #multiplication terme à terme de valeurs par ... \n",
    "    \n",
    "    #avec S(x)^2\n",
    "    y3 = np.zeros([k,2,2])\n",
    "    for i in range(len(valeurs)):\n",
    "        a = V[i].reshape([1,2])\n",
    "        y3[i] = np.transpose(a).dot(a)*y1[i]\n",
    "    \n",
    "    return([np.mean(y1), np.mean(y2, axis = 0), np.mean(y3, axis=0)])"
   ]
  },
  {
   "cell_type": "markdown",
   "metadata": {},
   "source": [
    "Newton-Raphson : "
   ]
  },
  {
   "cell_type": "code",
   "execution_count": 18,
   "metadata": {},
   "outputs": [],
   "source": [
    "def pas(theta, observation = V[0]): #on prend une observation au pif\n",
    "    a,b,c = Z(theta)\n",
    "    b = b.reshape([2,1]) \n",
    "    l_deriv_2fois = np.linalg.inv(b.dot(np.transpose(b))/(a**2) - c/a)\n",
    "    theta = np.array(theta).reshape([2,1])\n",
    "    \n",
    "    return(np.subtract(theta , l_deriv_2fois.dot(np.subtract(observation.reshape([2,1]), b/a))))"
   ]
  },
  {
   "cell_type": "code",
   "execution_count": 29,
   "metadata": {},
   "outputs": [],
   "source": [
    "def NR(init = [10,-11], nb_iter = 10):\n",
    "    #initialisation\n",
    "    t = np.zeros([nb_iter,2])\n",
    "    t[0] = init\n",
    "\n",
    "    for i in range(nb_iter-1):\n",
    "        t[i+1] = pas(t[i]).reshape([1,2])\n",
    "\n",
    "    plt.plot(t[:,1])\n",
    "    plt.plot(t[:,0])\n",
    "    plt.show()\n",
    "    return(t)"
   ]
  },
  {
   "cell_type": "code",
   "execution_count": 30,
   "metadata": {},
   "outputs": [
    {
     "name": "stderr",
     "output_type": "stream",
     "text": [
      "C:\\Users\\Hugues\\Anaconda3\\lib\\site-packages\\ipykernel_launcher.py:8: RuntimeWarning: invalid value encountered in multiply\n",
      "  \n",
      "C:\\Users\\Hugues\\Anaconda3\\lib\\site-packages\\ipykernel_launcher.py:14: RuntimeWarning: invalid value encountered in multiply\n",
      "  \n",
      "C:\\Users\\Hugues\\Anaconda3\\lib\\site-packages\\ipykernel_launcher.py:4: RuntimeWarning: invalid value encountered in true_divide\n",
      "  after removing the cwd from sys.path.\n",
      "C:\\Users\\Hugues\\Anaconda3\\lib\\site-packages\\ipykernel_launcher.py:7: RuntimeWarning: invalid value encountered in true_divide\n",
      "  import sys\n"
     ]
    },
    {
     "data": {
      "image/png": "[encoded data removed]",
      "text/plain": [
       "<Figure size 432x288 with 1 Axes>"
      ]
     },
     "metadata": {},
     "output_type": "display_data"
    },
    {
     "data": {
      "text/plain": [
       "array([[ 1.00000000e+01, -1.10000000e+01],\n",
       "       [ 1.01122131e+01, -6.65843560e+00],\n",
       "       [ 1.63422438e+08, -1.63314338e+08],\n",
       "       [            nan,             nan],\n",
       "       [            nan,             nan],\n",
       "       [            nan,             nan],\n",
       "       [            nan,             nan],\n",
       "       [            nan,             nan],\n",
       "       [            nan,             nan],\n",
       "       [            nan,             nan]])"
      ]
     },
     "execution_count": 30,
     "metadata": {},
     "output_type": "execute_result"
    }
   ],
   "source": [
    "NR()"
   ]
  },
  {
   "cell_type": "code",
   "execution_count": null,
   "metadata": {},
   "outputs": [],
   "source": []
  }
 ],
 "metadata": {
  "kernelspec": {
   "display_name": "Python 3",
   "language": "python",
   "name": "python3"
  },
  "language_info": {
   "codemirror_mode": {
    "name": "ipython",
    "version": 3
   },
   "file_extension": ".py",
   "mimetype": "text/x-python",
   "name": "python",
   "nbconvert_exporter": "python",
   "pygments_lexer": "ipython3",
   "version": "3.6.5"
  }
 },
 "nbformat": 4,
 "nbformat_minor": 2
}
